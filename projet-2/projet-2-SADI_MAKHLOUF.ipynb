{
 "cells": [
  {
   "cell_type": "markdown",
   "metadata": {},
   "source": [
    "IA & Data science (LU3IN0226) -- 2021-2022\n",
    "--------\n",
    "*&copy; Equipe pédagogique: Vincent Guigue, Christophe Marsala, Olivier Schwander.*"
   ]
  },
  {
   "cell_type": "markdown",
   "metadata": {},
   "source": [
    "<font size=\"+1\" color=\"RED\"><b>[Q]</b></font> <font size=\"+1\"><b>Indiquer dans la boîte ci-dessous vos noms et prénoms :</b></font>"
   ]
  },
  {
   "cell_type": "markdown",
   "metadata": {},
   "source": [
    "- Amayas SADI\n",
    "- Rayane MAKHLOUF"
   ]
  },
  {
   "cell_type": "markdown",
   "metadata": {},
   "source": [
    "<b>Ce projet peut être fait en binôme (et c'est fortement conseillé) ou tout seul.</b>\n",
    "Le nom de chaque membre du binôme doit être indiqué, et un seul rendu sur un des deux comptes Moodle doit être fait.\n",
    "\n",
    "<b>Les groupes de plus de 2 personnes ne sont pas autorisés.</b>"
   ]
  },
  {
   "cell_type": "markdown",
   "metadata": {},
   "source": [
    "<font color=\"RED\" size=\"+1\"><b>[Q]</b></font> **Renommer ce fichier ipython**\n",
    "\n",
    "Tout en haut de cette page, cliquer sur <tt>projet-2</tt> et rajouter à la suite de <tt>projet-2</tt> les noms des membres du binômes séparés par un tiret.\n",
    "\n",
    "<font color=\"RED\" size=\"+1\">IMPORTANT: soumission de votre fichier final</font>\n",
    "\n",
    "**Nom à donner au notebook** : *projet-2-Nom1_Nom2.ipynb* \n",
    "\n",
    "- Amayas SADI\n",
    "- Rayane MAKHLOUF\n",
    "\n",
    "**Le compte-rendu doit être rendu sur la page Moodle.**"
   ]
  },
  {
   "cell_type": "markdown",
   "metadata": {},
   "source": [
    "# Projet 2 - avril-mai 2022\n",
    "\n",
    "\n",
    "<font size=\"+1\" color=\"RED\"><b>Date de rendu : lundi 9 mai, 19h au plus tard</b></font>\n",
    "    \n",
    "(<b>attention! le site Moodle ferme à 19h pile !</b> prévoyez de vous y connecter au moins 15mn avant la fermeture...)\n",
    "\n",
    "\n",
    "Vous devez compléter ce notebook en rajoutant vos expérimentations avec vos algorithmes d'apprentissage sur les données Agribalise qui sont des données ouvertes dont la documentation peut être consultée ici : https://doc.agribalyse.fr/documentation/acces-donnees\n",
    "\n",
    "Très important : les fichiers de données doivent être placés de façon à respecter la structure de fichiers suivante :\n",
    "\n",
    "          --iads/\n",
    "              -- Classifiers.py\n",
    "              -- etc.\n",
    "          -- projet/\n",
    "              -- ce_notebook.ipynb\n",
    "              -- Donnees_Agribalyse/\n",
    "                  -- detail_ingredient.csv\n",
    "                  -- detail_etape.csv\n",
    "                  -- synthese.csv\n",
    "\n",
    "Dans le notebook, le chargement des fichiers de données considèrera donc cette arborescence.\n",
    "\n",
    "## Travail à faire\n",
    "\n",
    "Appliquer les algorithmes d'apprentissage vus tout au long du semestre sur les données afin de mettre en évidence des résultats intéressants.\n",
    "Deux problèmes, au moins, doivent être traités:\n",
    "- un problème d'apprentissage supervisé\n",
    "- un problème d'apprentissage non supervisé\n",
    "\n",
    "\n",
    "## Travail à rendre\n",
    "Ce qui doit être remis avant la date limite : un fichier archive (`.tar`, `.tgz`, ou `.zip` uniquement) contenant:\n",
    "- ce notebook complété. Il doit pouvoir être exécuté sans autre apport (pensez à vous en assurer avant de le rendre). \n",
    "- votre librairie iads sous la forme d'une archive du répertoire iads/\n",
    "- un fichier PDF dont le nom est de la forme: *projet-1-Nom1_Nom2.pdf* qui correspond à un poster décrivant l'ensemble des expérimentations menées et les résultats obtenus.\n",
    "\n",
    "\n",
    "<b>IMPORTANT</b>: Les fichiers de données ne doivent pas être inclus dans votre archive !\n",
    "\n",
    "## Soutenance des projets\n",
    "La soutenance sera organisée après la semaine d'examens de mai entre le 17 et le 25 mai (la date sera précisé sur le forum du Moodle).\n",
    "\n",
    "La <b>soutenance est obligatoire</b> : tout projet pour lequel une soutenance n'a pas eu lieu sera noté $0$.\n",
    "\n",
    "Modalités de la soutenance:\n",
    "- durée de la soutenance : 10 mn pour un binôme, 7 mn pour un monôme ;\n",
    "- elle a lieu devant un ordinateur avec le notebook et le poster comme support ;\n",
    "    - elle commence par une rapide présentation des expérimentations réalisées et résultats obtenus (max. 4 à 5mns)\n",
    "    - puis elle se poursuit par des questions posées individuellement aux membres du binômes sur les expériences ou le code python réalisé.\n",
    "- la note de soutenance est individuelle pour chaque membre d'un binôme.\n",
    "\n",
    "\n"
   ]
  },
  {
   "cell_type": "markdown",
   "metadata": {},
   "source": [
    "## Exemples"
   ]
  },
  {
   "cell_type": "code",
   "execution_count": 2,
   "metadata": {},
   "outputs": [],
   "source": [
    "# Importation des librairies standards:\n",
    "import numpy as np\n",
    "import pandas as pd\n",
    "import matplotlib.pyplot as plt\n",
    "%matplotlib inline  \n",
    "\n",
    "# Importation de votre librairie iads:\n",
    "# La ligne suivante permet de préciser le chemin d'accès à la librairie iads\n",
    "import sys\n",
    "sys.path.append('../')   # iads doit être dans le répertoire frère du répertoire courant !\n",
    "\n",
    "# Importation de la librairie iads\n",
    "import iads as iads\n",
    "\n",
    "# importation de Classifiers\n",
    "from iads import Classifiers as cl\n",
    "\n",
    "# importation de utils\n",
    "from iads import utils as ut\n",
    "\n",
    "# importation de Clustering\n",
    "from iads import Clustering as clust\n",
    "\n",
    "# importation de Evaluation\n",
    "from iads import evaluation as ev\n",
    "\n",
    "SEED = 42\n",
    "\n",
    "# commande TRES utile pour recharger automatiquement le code que vous modifiez dans les modules\n",
    "%load_ext autoreload\n",
    "%autoreload 2"
   ]
  },
  {
   "cell_type": "markdown",
   "metadata": {},
   "source": [
    "### Importantion des données depuis la base de agribalyse"
   ]
  },
  {
   "cell_type": "code",
   "execution_count": 3,
   "metadata": {
    "scrolled": false
   },
   "outputs": [
    {
     "name": "stdout",
     "output_type": "stream",
     "text": [
      "Nombre de lignes:  2479\n"
     ]
    }
   ],
   "source": [
    "data_synthese = pd.read_csv(\"Donnees_Agribalyse/synthese.csv\")\n",
    "data_synthese.columns\n",
    "print(\"Nombre de lignes: \",len(data_synthese))"
   ]
  },
  {
   "cell_type": "code",
   "execution_count": 4,
   "metadata": {
    "scrolled": false
   },
   "outputs": [
    {
     "data": {
      "text/html": [
       "<div>\n",
       "<style scoped>\n",
       "    .dataframe tbody tr th:only-of-type {\n",
       "        vertical-align: middle;\n",
       "    }\n",
       "\n",
       "    .dataframe tbody tr th {\n",
       "        vertical-align: top;\n",
       "    }\n",
       "\n",
       "    .dataframe thead th {\n",
       "        text-align: right;\n",
       "    }\n",
       "</style>\n",
       "<table border=\"1\" class=\"dataframe\">\n",
       "  <thead>\n",
       "    <tr style=\"text-align: right;\">\n",
       "      <th></th>\n",
       "      <th>Code AGB</th>\n",
       "      <th>Code CIQUAL</th>\n",
       "      <th>Groupe d'aliment</th>\n",
       "      <th>Sous-groupe d'aliment</th>\n",
       "      <th>Nom du Produit en Français</th>\n",
       "      <th>LCI Name</th>\n",
       "      <th>Saisonnalité</th>\n",
       "      <th>Transport par avion (1 : par avion)</th>\n",
       "      <th>Livraison</th>\n",
       "      <th>Matériau d'emballage</th>\n",
       "      <th>...</th>\n",
       "      <th>Particules (E-06 disease inc./kg de produit)</th>\n",
       "      <th>Acidification terrestre et eaux douces (mol H+ eq/kg de produit)</th>\n",
       "      <th>Eutrophisation terreste (mol N eq/kg de produit)</th>\n",
       "      <th>Eutrophisation eaux douces (E-03 kg P eq/kg de produit)</th>\n",
       "      <th>Eutrophisation marine (E-03 kg N eq/kg de produit)</th>\n",
       "      <th>Utilisation du sol (Pt/kg de produit)</th>\n",
       "      <th>Écotoxicité pour écosystèmes aquatiques d'eau douce (CTUe/kg de produit)</th>\n",
       "      <th>Épuisement des ressources eau (m3 depriv./kg de produit)</th>\n",
       "      <th>Épuisement des ressources énergétiques (MJ/kg de produit)</th>\n",
       "      <th>Épuisement des ressources minéraux (E-06 kg Sb eq/kg de produit)</th>\n",
       "    </tr>\n",
       "  </thead>\n",
       "  <tbody>\n",
       "    <tr>\n",
       "      <th>0</th>\n",
       "      <td>13712</td>\n",
       "      <td>13712</td>\n",
       "      <td>fruits, légumes, légumineuses et oléagineux</td>\n",
       "      <td>fruits</td>\n",
       "      <td>Abricot au sirop léger, appertisé, égoutté</td>\n",
       "      <td>Apricot, canned in light syrup, drained</td>\n",
       "      <td>mix de consommation FR</td>\n",
       "      <td>0</td>\n",
       "      <td>Ambiant (moyenne)</td>\n",
       "      <td>Acier</td>\n",
       "      <td>...</td>\n",
       "      <td>0.096413</td>\n",
       "      <td>0.009301</td>\n",
       "      <td>0.031766</td>\n",
       "      <td>0.410555</td>\n",
       "      <td>1.502775</td>\n",
       "      <td>44.823181</td>\n",
       "      <td>62.195218</td>\n",
       "      <td>1.630637</td>\n",
       "      <td>47.237697</td>\n",
       "      <td>2.938064</td>\n",
       "    </tr>\n",
       "    <tr>\n",
       "      <th>1</th>\n",
       "      <td>13713</td>\n",
       "      <td>13713</td>\n",
       "      <td>fruits, légumes, légumineuses et oléagineux</td>\n",
       "      <td>fruits</td>\n",
       "      <td>Abricot au sirop léger, appertisé, non égoutté</td>\n",
       "      <td>Apricot, canned in light syrup, not drained</td>\n",
       "      <td>mix de consommation FR</td>\n",
       "      <td>0</td>\n",
       "      <td>Ambiant (moyenne)</td>\n",
       "      <td>Acier</td>\n",
       "      <td>...</td>\n",
       "      <td>0.059314</td>\n",
       "      <td>0.005726</td>\n",
       "      <td>0.019499</td>\n",
       "      <td>0.235366</td>\n",
       "      <td>0.797791</td>\n",
       "      <td>27.901738</td>\n",
       "      <td>36.285914</td>\n",
       "      <td>1.010960</td>\n",
       "      <td>29.397697</td>\n",
       "      <td>1.823726</td>\n",
       "    </tr>\n",
       "    <tr>\n",
       "      <th>2</th>\n",
       "      <td>13714</td>\n",
       "      <td>13714</td>\n",
       "      <td>fruits, légumes, légumineuses et oléagineux</td>\n",
       "      <td>fruits</td>\n",
       "      <td>Abricot au sirop, appertisé, égoutté</td>\n",
       "      <td>Apricot, in syrup, canned, drained</td>\n",
       "      <td>mix de consommation FR</td>\n",
       "      <td>0</td>\n",
       "      <td>Ambiant (moyenne)</td>\n",
       "      <td>Acier</td>\n",
       "      <td>...</td>\n",
       "      <td>0.096413</td>\n",
       "      <td>0.009301</td>\n",
       "      <td>0.031766</td>\n",
       "      <td>0.410555</td>\n",
       "      <td>1.502775</td>\n",
       "      <td>44.823181</td>\n",
       "      <td>62.195218</td>\n",
       "      <td>1.630637</td>\n",
       "      <td>47.237697</td>\n",
       "      <td>2.938064</td>\n",
       "    </tr>\n",
       "    <tr>\n",
       "      <th>3</th>\n",
       "      <td>13715</td>\n",
       "      <td>13715</td>\n",
       "      <td>fruits, légumes, légumineuses et oléagineux</td>\n",
       "      <td>fruits</td>\n",
       "      <td>Abricot au sirop, appertisé, non égoutté</td>\n",
       "      <td>Apricot, in syrup, canned, not drained</td>\n",
       "      <td>mix de consommation FR</td>\n",
       "      <td>0</td>\n",
       "      <td>Ambiant (moyenne)</td>\n",
       "      <td>Acier</td>\n",
       "      <td>...</td>\n",
       "      <td>0.059314</td>\n",
       "      <td>0.005726</td>\n",
       "      <td>0.019499</td>\n",
       "      <td>0.235366</td>\n",
       "      <td>0.797791</td>\n",
       "      <td>27.901738</td>\n",
       "      <td>36.285914</td>\n",
       "      <td>1.010960</td>\n",
       "      <td>29.397697</td>\n",
       "      <td>1.823726</td>\n",
       "    </tr>\n",
       "    <tr>\n",
       "      <th>4</th>\n",
       "      <td>13000</td>\n",
       "      <td>13000</td>\n",
       "      <td>fruits, légumes, légumineuses et oléagineux</td>\n",
       "      <td>fruits</td>\n",
       "      <td>Abricot, dénoyauté, cru</td>\n",
       "      <td>Apricot, pitted, raw</td>\n",
       "      <td>mix de consommation FR</td>\n",
       "      <td>0</td>\n",
       "      <td>Ambiant (moyenne)</td>\n",
       "      <td>LPDE</td>\n",
       "      <td>...</td>\n",
       "      <td>0.061462</td>\n",
       "      <td>0.007254</td>\n",
       "      <td>0.025954</td>\n",
       "      <td>0.204244</td>\n",
       "      <td>0.943669</td>\n",
       "      <td>43.838644</td>\n",
       "      <td>41.957928</td>\n",
       "      <td>1.412878</td>\n",
       "      <td>17.123820</td>\n",
       "      <td>2.173328</td>\n",
       "    </tr>\n",
       "    <tr>\n",
       "      <th>5</th>\n",
       "      <td>13001</td>\n",
       "      <td>13001</td>\n",
       "      <td>fruits, légumes, légumineuses et oléagineux</td>\n",
       "      <td>fruits</td>\n",
       "      <td>Abricot, dénoyauté, sec</td>\n",
       "      <td>Apricot, pitted, dried</td>\n",
       "      <td>mix de consommation FR</td>\n",
       "      <td>0</td>\n",
       "      <td>Ambiant (moyenne)</td>\n",
       "      <td>LPDE</td>\n",
       "      <td>...</td>\n",
       "      <td>0.315730</td>\n",
       "      <td>0.041668</td>\n",
       "      <td>0.156978</td>\n",
       "      <td>1.036479</td>\n",
       "      <td>4.955795</td>\n",
       "      <td>248.627750</td>\n",
       "      <td>260.488540</td>\n",
       "      <td>7.717328</td>\n",
       "      <td>184.622520</td>\n",
       "      <td>11.016019</td>\n",
       "    </tr>\n",
       "  </tbody>\n",
       "</table>\n",
       "<p>6 rows × 27 columns</p>\n",
       "</div>"
      ],
      "text/plain": [
       "  Code AGB  Code CIQUAL                             Groupe d'aliment  \\\n",
       "0    13712        13712  fruits, légumes, légumineuses et oléagineux   \n",
       "1    13713        13713  fruits, légumes, légumineuses et oléagineux   \n",
       "2    13714        13714  fruits, légumes, légumineuses et oléagineux   \n",
       "3    13715        13715  fruits, légumes, légumineuses et oléagineux   \n",
       "4    13000        13000  fruits, légumes, légumineuses et oléagineux   \n",
       "5    13001        13001  fruits, légumes, légumineuses et oléagineux   \n",
       "\n",
       "  Sous-groupe d'aliment                      Nom du Produit en Français  \\\n",
       "0                fruits      Abricot au sirop léger, appertisé, égoutté   \n",
       "1                fruits  Abricot au sirop léger, appertisé, non égoutté   \n",
       "2                fruits            Abricot au sirop, appertisé, égoutté   \n",
       "3                fruits        Abricot au sirop, appertisé, non égoutté   \n",
       "4                fruits                         Abricot, dénoyauté, cru   \n",
       "5                fruits                         Abricot, dénoyauté, sec   \n",
       "\n",
       "                                      LCI Name            Saisonnalité  \\\n",
       "0      Apricot, canned in light syrup, drained  mix de consommation FR   \n",
       "1  Apricot, canned in light syrup, not drained  mix de consommation FR   \n",
       "2           Apricot, in syrup, canned, drained  mix de consommation FR   \n",
       "3       Apricot, in syrup, canned, not drained  mix de consommation FR   \n",
       "4                         Apricot, pitted, raw  mix de consommation FR   \n",
       "5                       Apricot, pitted, dried  mix de consommation FR   \n",
       "\n",
       "   Transport par avion (1 : par avion)          Livraison  \\\n",
       "0                                    0  Ambiant (moyenne)   \n",
       "1                                    0  Ambiant (moyenne)   \n",
       "2                                    0  Ambiant (moyenne)   \n",
       "3                                    0  Ambiant (moyenne)   \n",
       "4                                    0  Ambiant (moyenne)   \n",
       "5                                    0  Ambiant (moyenne)   \n",
       "\n",
       "  Matériau d'emballage  ... Particules (E-06 disease inc./kg de produit)  \\\n",
       "0                Acier  ...                                     0.096413   \n",
       "1                Acier  ...                                     0.059314   \n",
       "2                Acier  ...                                     0.096413   \n",
       "3                Acier  ...                                     0.059314   \n",
       "4                 LPDE  ...                                     0.061462   \n",
       "5                 LPDE  ...                                     0.315730   \n",
       "\n",
       "   Acidification terrestre et eaux douces (mol H+ eq/kg de produit)  \\\n",
       "0                                           0.009301                  \n",
       "1                                           0.005726                  \n",
       "2                                           0.009301                  \n",
       "3                                           0.005726                  \n",
       "4                                           0.007254                  \n",
       "5                                           0.041668                  \n",
       "\n",
       "   Eutrophisation terreste (mol N eq/kg de produit)  \\\n",
       "0                                          0.031766   \n",
       "1                                          0.019499   \n",
       "2                                          0.031766   \n",
       "3                                          0.019499   \n",
       "4                                          0.025954   \n",
       "5                                          0.156978   \n",
       "\n",
       "   Eutrophisation eaux douces (E-03 kg P eq/kg de produit)  \\\n",
       "0                                           0.410555         \n",
       "1                                           0.235366         \n",
       "2                                           0.410555         \n",
       "3                                           0.235366         \n",
       "4                                           0.204244         \n",
       "5                                           1.036479         \n",
       "\n",
       "   Eutrophisation marine (E-03 kg N eq/kg de produit)  \\\n",
       "0                                           1.502775    \n",
       "1                                           0.797791    \n",
       "2                                           1.502775    \n",
       "3                                           0.797791    \n",
       "4                                           0.943669    \n",
       "5                                           4.955795    \n",
       "\n",
       "   Utilisation du sol (Pt/kg de produit)  \\\n",
       "0                              44.823181   \n",
       "1                              27.901738   \n",
       "2                              44.823181   \n",
       "3                              27.901738   \n",
       "4                              43.838644   \n",
       "5                             248.627750   \n",
       "\n",
       "   Écotoxicité pour écosystèmes aquatiques d'eau douce (CTUe/kg de produit)  \\\n",
       "0                                          62.195218                          \n",
       "1                                          36.285914                          \n",
       "2                                          62.195218                          \n",
       "3                                          36.285914                          \n",
       "4                                          41.957928                          \n",
       "5                                         260.488540                          \n",
       "\n",
       "   Épuisement des ressources eau (m3 depriv./kg de produit)  \\\n",
       "0                                           1.630637          \n",
       "1                                           1.010960          \n",
       "2                                           1.630637          \n",
       "3                                           1.010960          \n",
       "4                                           1.412878          \n",
       "5                                           7.717328          \n",
       "\n",
       "   Épuisement des ressources énergétiques (MJ/kg de produit)  \\\n",
       "0                                          47.237697           \n",
       "1                                          29.397697           \n",
       "2                                          47.237697           \n",
       "3                                          29.397697           \n",
       "4                                          17.123820           \n",
       "5                                         184.622520           \n",
       "\n",
       "   Épuisement des ressources minéraux (E-06 kg Sb eq/kg de produit)  \n",
       "0                                           2.938064                 \n",
       "1                                           1.823726                 \n",
       "2                                           2.938064                 \n",
       "3                                           1.823726                 \n",
       "4                                           2.173328                 \n",
       "5                                          11.016019                 \n",
       "\n",
       "[6 rows x 27 columns]"
      ]
     },
     "execution_count": 4,
     "metadata": {},
     "output_type": "execute_result"
    }
   ],
   "source": [
    "data_synthese.loc[0:5]"
   ]
  },
  {
   "cell_type": "markdown",
   "metadata": {},
   "source": [
    "### Importantion des données depuis la base de agribalyse"
   ]
  },
  {
   "cell_type": "code",
   "execution_count": 5,
   "metadata": {},
   "outputs": [
    {
     "name": "stdout",
     "output_type": "stream",
     "text": [
      "Nombre de lignes:  5671\n"
     ]
    }
   ],
   "source": [
    "data_ingredient = pd.read_csv(\"Donnees_Agribalyse/detail_ingredient.csv\")\n",
    "data_ingredient.columns\n",
    "print(\"Nombre de lignes: \",len(data_ingredient))"
   ]
  },
  {
   "cell_type": "code",
   "execution_count": 6,
   "metadata": {
    "scrolled": false
   },
   "outputs": [
    {
     "data": {
      "text/html": [
       "<div>\n",
       "<style scoped>\n",
       "    .dataframe tbody tr th:only-of-type {\n",
       "        vertical-align: middle;\n",
       "    }\n",
       "\n",
       "    .dataframe tbody tr th {\n",
       "        vertical-align: top;\n",
       "    }\n",
       "\n",
       "    .dataframe thead th {\n",
       "        text-align: right;\n",
       "    }\n",
       "</style>\n",
       "<table border=\"1\" class=\"dataframe\">\n",
       "  <thead>\n",
       "    <tr style=\"text-align: right;\">\n",
       "      <th></th>\n",
       "      <th>Ciqual AGB</th>\n",
       "      <th>Ciqual code</th>\n",
       "      <th>Nom Français</th>\n",
       "      <th>Groupe d'aliment</th>\n",
       "      <th>Sous-groupe d'aliment</th>\n",
       "      <th>LCI Name</th>\n",
       "      <th>Ingredients</th>\n",
       "      <th>Score unique EF (mPt/kg de produit)</th>\n",
       "      <th>Changement climatique (kg CO2 eq/kg de produit)</th>\n",
       "      <th>Appauvrissement de la couche d'ozone (E-06 kg CVC11 eq/kg de produit)</th>\n",
       "      <th>...</th>\n",
       "      <th>Particules (E-06 disease inc./kg de produit)</th>\n",
       "      <th>Acidification terrestre et eaux douces (mol H+ eq/kg de produit)</th>\n",
       "      <th>Eutrophisation terreste (mol N eq/kg de produit)</th>\n",
       "      <th>Eutrophisation eaux douces (E-03 kg P eq/kg de produit)</th>\n",
       "      <th>Eutrophisation marine (E-03 kg N eq/kg de produit)</th>\n",
       "      <th>Utilisation du sol (Pt/kg de produit)</th>\n",
       "      <th>Écotoxicité pour écosystèmes aquatiques d'eau douce (CTUe/kg de produit)</th>\n",
       "      <th>Épuisement des ressources eau (m3 depriv./kg de produit)</th>\n",
       "      <th>Épuisement des ressources énergétiques (MJ/kg de produit)</th>\n",
       "      <th>Épuisement des ressources minéraux (E-06 kg Sb eq/kg de produit)</th>\n",
       "    </tr>\n",
       "  </thead>\n",
       "  <tbody>\n",
       "    <tr>\n",
       "      <th>0</th>\n",
       "      <td>11168</td>\n",
       "      <td>11168</td>\n",
       "      <td>Sauce aïoli, préemballée</td>\n",
       "      <td>aides culinaires et ingrédients divers</td>\n",
       "      <td>sauces</td>\n",
       "      <td>Aioli sauce (garlic and olive oil mayonnaise),...</td>\n",
       "      <td>Jaune d'œuf</td>\n",
       "      <td>0.039743</td>\n",
       "      <td>0.164754</td>\n",
       "      <td>0.014089</td>\n",
       "      <td>...</td>\n",
       "      <td>0.046616</td>\n",
       "      <td>0.006761</td>\n",
       "      <td>0.029441</td>\n",
       "      <td>0.052027</td>\n",
       "      <td>1.329230</td>\n",
       "      <td>16.984964</td>\n",
       "      <td>7.404112</td>\n",
       "      <td>0.337769</td>\n",
       "      <td>1.475548</td>\n",
       "      <td>0.251356</td>\n",
       "    </tr>\n",
       "    <tr>\n",
       "      <th>1</th>\n",
       "      <td>11168</td>\n",
       "      <td>11168</td>\n",
       "      <td>Sauce aïoli, préemballée</td>\n",
       "      <td>aides culinaires et ingrédients divers</td>\n",
       "      <td>sauces</td>\n",
       "      <td>Aioli sauce (garlic and olive oil mayonnaise),...</td>\n",
       "      <td>Ail</td>\n",
       "      <td>0.004417</td>\n",
       "      <td>0.011444</td>\n",
       "      <td>0.002512</td>\n",
       "      <td>...</td>\n",
       "      <td>0.000781</td>\n",
       "      <td>0.000105</td>\n",
       "      <td>0.000328</td>\n",
       "      <td>0.004760</td>\n",
       "      <td>0.189983</td>\n",
       "      <td>1.643787</td>\n",
       "      <td>1.216336</td>\n",
       "      <td>0.291209</td>\n",
       "      <td>0.229937</td>\n",
       "      <td>0.084028</td>\n",
       "    </tr>\n",
       "    <tr>\n",
       "      <th>2</th>\n",
       "      <td>11168</td>\n",
       "      <td>11168</td>\n",
       "      <td>Sauce aïoli, préemballée</td>\n",
       "      <td>aides culinaires et ingrédients divers</td>\n",
       "      <td>sauces</td>\n",
       "      <td>Aioli sauce (garlic and olive oil mayonnaise),...</td>\n",
       "      <td>Jus de citron</td>\n",
       "      <td>0.019375</td>\n",
       "      <td>0.061230</td>\n",
       "      <td>0.007842</td>\n",
       "      <td>...</td>\n",
       "      <td>0.006365</td>\n",
       "      <td>0.000951</td>\n",
       "      <td>0.003573</td>\n",
       "      <td>0.016918</td>\n",
       "      <td>0.213721</td>\n",
       "      <td>3.707242</td>\n",
       "      <td>2.625043</td>\n",
       "      <td>1.445978</td>\n",
       "      <td>0.793865</td>\n",
       "      <td>0.203959</td>\n",
       "    </tr>\n",
       "    <tr>\n",
       "      <th>3</th>\n",
       "      <td>11168</td>\n",
       "      <td>11168</td>\n",
       "      <td>Sauce aïoli, préemballée</td>\n",
       "      <td>aides culinaires et ingrédients divers</td>\n",
       "      <td>sauces</td>\n",
       "      <td>Aioli sauce (garlic and olive oil mayonnaise),...</td>\n",
       "      <td>Huile d'olive</td>\n",
       "      <td>0.445364</td>\n",
       "      <td>1.161825</td>\n",
       "      <td>0.136467</td>\n",
       "      <td>...</td>\n",
       "      <td>0.142041</td>\n",
       "      <td>0.021524</td>\n",
       "      <td>0.088459</td>\n",
       "      <td>0.554361</td>\n",
       "      <td>9.263219</td>\n",
       "      <td>7.579606</td>\n",
       "      <td>464.100950</td>\n",
       "      <td>9.374618</td>\n",
       "      <td>12.100965</td>\n",
       "      <td>4.424012</td>\n",
       "    </tr>\n",
       "    <tr>\n",
       "      <th>4</th>\n",
       "      <td>11168</td>\n",
       "      <td>11168</td>\n",
       "      <td>Sauce aïoli, préemballée</td>\n",
       "      <td>aides culinaires et ingrédients divers</td>\n",
       "      <td>sauces</td>\n",
       "      <td>Aioli sauce (garlic and olive oil mayonnaise),...</td>\n",
       "      <td>Autres étapes</td>\n",
       "      <td>0.080761</td>\n",
       "      <td>0.571172</td>\n",
       "      <td>0.126768</td>\n",
       "      <td>...</td>\n",
       "      <td>0.024611</td>\n",
       "      <td>0.002630</td>\n",
       "      <td>0.008368</td>\n",
       "      <td>0.090374</td>\n",
       "      <td>1.295442</td>\n",
       "      <td>4.529954</td>\n",
       "      <td>11.433712</td>\n",
       "      <td>0.759522</td>\n",
       "      <td>22.626111</td>\n",
       "      <td>1.278583</td>\n",
       "    </tr>\n",
       "    <tr>\n",
       "      <th>5</th>\n",
       "      <td>24664</td>\n",
       "      <td>24664</td>\n",
       "      <td>Gâteau aux amandes type financier</td>\n",
       "      <td>produits céréaliers</td>\n",
       "      <td>gâteaux et pâtisseries</td>\n",
       "      <td>Almond cake</td>\n",
       "      <td>Amande</td>\n",
       "      <td>0.349367</td>\n",
       "      <td>0.914647</td>\n",
       "      <td>0.070591</td>\n",
       "      <td>...</td>\n",
       "      <td>0.098041</td>\n",
       "      <td>0.012824</td>\n",
       "      <td>0.046970</td>\n",
       "      <td>0.406947</td>\n",
       "      <td>4.767077</td>\n",
       "      <td>64.110420</td>\n",
       "      <td>49.548089</td>\n",
       "      <td>27.024469</td>\n",
       "      <td>11.359491</td>\n",
       "      <td>8.104749</td>\n",
       "    </tr>\n",
       "  </tbody>\n",
       "</table>\n",
       "<p>6 rows × 22 columns</p>\n",
       "</div>"
      ],
      "text/plain": [
       "   Ciqual AGB  Ciqual code                       Nom Français  \\\n",
       "0       11168        11168           Sauce aïoli, préemballée   \n",
       "1       11168        11168           Sauce aïoli, préemballée   \n",
       "2       11168        11168           Sauce aïoli, préemballée   \n",
       "3       11168        11168           Sauce aïoli, préemballée   \n",
       "4       11168        11168           Sauce aïoli, préemballée   \n",
       "5       24664        24664  Gâteau aux amandes type financier   \n",
       "\n",
       "                         Groupe d'aliment   Sous-groupe d'aliment  \\\n",
       "0  aides culinaires et ingrédients divers                  sauces   \n",
       "1  aides culinaires et ingrédients divers                  sauces   \n",
       "2  aides culinaires et ingrédients divers                  sauces   \n",
       "3  aides culinaires et ingrédients divers                  sauces   \n",
       "4  aides culinaires et ingrédients divers                  sauces   \n",
       "5                     produits céréaliers  gâteaux et pâtisseries   \n",
       "\n",
       "                                            LCI Name    Ingredients  \\\n",
       "0  Aioli sauce (garlic and olive oil mayonnaise),...    Jaune d'œuf   \n",
       "1  Aioli sauce (garlic and olive oil mayonnaise),...            Ail   \n",
       "2  Aioli sauce (garlic and olive oil mayonnaise),...  Jus de citron   \n",
       "3  Aioli sauce (garlic and olive oil mayonnaise),...  Huile d'olive   \n",
       "4  Aioli sauce (garlic and olive oil mayonnaise),...  Autres étapes   \n",
       "5                                        Almond cake         Amande   \n",
       "\n",
       "   Score unique EF (mPt/kg de produit)  \\\n",
       "0                             0.039743   \n",
       "1                             0.004417   \n",
       "2                             0.019375   \n",
       "3                             0.445364   \n",
       "4                             0.080761   \n",
       "5                             0.349367   \n",
       "\n",
       "   Changement climatique (kg CO2 eq/kg de produit)  \\\n",
       "0                                         0.164754   \n",
       "1                                         0.011444   \n",
       "2                                         0.061230   \n",
       "3                                         1.161825   \n",
       "4                                         0.571172   \n",
       "5                                         0.914647   \n",
       "\n",
       "   Appauvrissement de la couche d'ozone (E-06 kg CVC11 eq/kg de produit)  ...  \\\n",
       "0                                           0.014089                      ...   \n",
       "1                                           0.002512                      ...   \n",
       "2                                           0.007842                      ...   \n",
       "3                                           0.136467                      ...   \n",
       "4                                           0.126768                      ...   \n",
       "5                                           0.070591                      ...   \n",
       "\n",
       "   Particules (E-06 disease inc./kg de produit)  \\\n",
       "0                                      0.046616   \n",
       "1                                      0.000781   \n",
       "2                                      0.006365   \n",
       "3                                      0.142041   \n",
       "4                                      0.024611   \n",
       "5                                      0.098041   \n",
       "\n",
       "   Acidification terrestre et eaux douces (mol H+ eq/kg de produit)  \\\n",
       "0                                           0.006761                  \n",
       "1                                           0.000105                  \n",
       "2                                           0.000951                  \n",
       "3                                           0.021524                  \n",
       "4                                           0.002630                  \n",
       "5                                           0.012824                  \n",
       "\n",
       "   Eutrophisation terreste (mol N eq/kg de produit)  \\\n",
       "0                                          0.029441   \n",
       "1                                          0.000328   \n",
       "2                                          0.003573   \n",
       "3                                          0.088459   \n",
       "4                                          0.008368   \n",
       "5                                          0.046970   \n",
       "\n",
       "   Eutrophisation eaux douces (E-03 kg P eq/kg de produit)  \\\n",
       "0                                           0.052027         \n",
       "1                                           0.004760         \n",
       "2                                           0.016918         \n",
       "3                                           0.554361         \n",
       "4                                           0.090374         \n",
       "5                                           0.406947         \n",
       "\n",
       "   Eutrophisation marine (E-03 kg N eq/kg de produit)  \\\n",
       "0                                           1.329230    \n",
       "1                                           0.189983    \n",
       "2                                           0.213721    \n",
       "3                                           9.263219    \n",
       "4                                           1.295442    \n",
       "5                                           4.767077    \n",
       "\n",
       "   Utilisation du sol (Pt/kg de produit)  \\\n",
       "0                              16.984964   \n",
       "1                               1.643787   \n",
       "2                               3.707242   \n",
       "3                               7.579606   \n",
       "4                               4.529954   \n",
       "5                              64.110420   \n",
       "\n",
       "   Écotoxicité pour écosystèmes aquatiques d'eau douce (CTUe/kg de produit)  \\\n",
       "0                                           7.404112                          \n",
       "1                                           1.216336                          \n",
       "2                                           2.625043                          \n",
       "3                                         464.100950                          \n",
       "4                                          11.433712                          \n",
       "5                                          49.548089                          \n",
       "\n",
       "   Épuisement des ressources eau (m3 depriv./kg de produit)  \\\n",
       "0                                           0.337769          \n",
       "1                                           0.291209          \n",
       "2                                           1.445978          \n",
       "3                                           9.374618          \n",
       "4                                           0.759522          \n",
       "5                                          27.024469          \n",
       "\n",
       "   Épuisement des ressources énergétiques (MJ/kg de produit)  \\\n",
       "0                                           1.475548           \n",
       "1                                           0.229937           \n",
       "2                                           0.793865           \n",
       "3                                          12.100965           \n",
       "4                                          22.626111           \n",
       "5                                          11.359491           \n",
       "\n",
       "   Épuisement des ressources minéraux (E-06 kg Sb eq/kg de produit)  \n",
       "0                                           0.251356                 \n",
       "1                                           0.084028                 \n",
       "2                                           0.203959                 \n",
       "3                                           4.424012                 \n",
       "4                                           1.278583                 \n",
       "5                                           8.104749                 \n",
       "\n",
       "[6 rows x 22 columns]"
      ]
     },
     "execution_count": 6,
     "metadata": {},
     "output_type": "execute_result"
    }
   ],
   "source": [
    "data_ingredient.loc[0:5]"
   ]
  },
  {
   "cell_type": "markdown",
   "metadata": {},
   "source": [
    "### Importantion des données depuis la base de agribalyse"
   ]
  },
  {
   "cell_type": "code",
   "execution_count": 7,
   "metadata": {
    "scrolled": true
   },
   "outputs": [
    {
     "name": "stdout",
     "output_type": "stream",
     "text": [
      "Nombre de lignes:  2480\n"
     ]
    }
   ],
   "source": [
    "data_etape = pd.read_csv(\"Donnees_Agribalyse/detail_etape.csv\")\n",
    "data_etape.columns\n",
    "print(\"Nombre de lignes: \",len(data_etape))"
   ]
  },
  {
   "cell_type": "code",
   "execution_count": 8,
   "metadata": {
    "scrolled": false
   },
   "outputs": [
    {
     "data": {
      "text/html": [
       "<div>\n",
       "<style scoped>\n",
       "    .dataframe tbody tr th:only-of-type {\n",
       "        vertical-align: middle;\n",
       "    }\n",
       "\n",
       "    .dataframe tbody tr th {\n",
       "        vertical-align: top;\n",
       "    }\n",
       "\n",
       "    .dataframe thead th {\n",
       "        text-align: right;\n",
       "    }\n",
       "</style>\n",
       "<table border=\"1\" class=\"dataframe\">\n",
       "  <thead>\n",
       "    <tr style=\"text-align: right;\">\n",
       "      <th></th>\n",
       "      <th>Code AGB</th>\n",
       "      <th>Code CIQUAL</th>\n",
       "      <th>Groupe d'aliment</th>\n",
       "      <th>Sous-groupe d'aliment</th>\n",
       "      <th>Nom du Produit en Français</th>\n",
       "      <th>LCI Name</th>\n",
       "      <th>DQR</th>\n",
       "      <th>Nom et code</th>\n",
       "      <th>Score unique EF (mPt / kg de produit) - Agriculture</th>\n",
       "      <th>Score unique EF (mPt / kg de produit) - Transformation</th>\n",
       "      <th>...</th>\n",
       "      <th>Épuisement des ressources minéraux (E-06 kg Sb eq/kg de produit) - Agriculture</th>\n",
       "      <th>Épuisement des ressources minéraux (E-06 kg Sb eq/kg de produit) - Transformation</th>\n",
       "      <th>Épuisement des ressources minéraux (E-06 kg Sb eq/kg de produit) - Emballage</th>\n",
       "      <th>Épuisement des ressources minéraux (E-06 kg Sb eq/kg de produit) - Transport</th>\n",
       "      <th>Épuisement des ressources minéraux (E-06 kg Sb eq/kg de produit) - Supermarché et distribution</th>\n",
       "      <th>Épuisement des ressources minéraux (E-06 kg Sb eq/kg de produit) - Consommation</th>\n",
       "      <th>DQR - P</th>\n",
       "      <th>DQR - TiR</th>\n",
       "      <th>DQR - GR</th>\n",
       "      <th>DQR - TeR</th>\n",
       "    </tr>\n",
       "  </thead>\n",
       "  <tbody>\n",
       "    <tr>\n",
       "      <th>0</th>\n",
       "      <td>12112</td>\n",
       "      <td>12112</td>\n",
       "      <td>lait et produits laitiers</td>\n",
       "      <td>fromages</td>\n",
       "      <td>Abondance</td>\n",
       "      <td>Abondance cheese, from cow's milk</td>\n",
       "      <td>2.24</td>\n",
       "      <td>Abondance (12112)</td>\n",
       "      <td>0.470679</td>\n",
       "      <td>0.046274</td>\n",
       "      <td>...</td>\n",
       "      <td>2.855985</td>\n",
       "      <td>0.552672</td>\n",
       "      <td>0.108718</td>\n",
       "      <td>0.985193</td>\n",
       "      <td>0.148203</td>\n",
       "      <td>0.042714</td>\n",
       "      <td>2.84</td>\n",
       "      <td>2.05</td>\n",
       "      <td>1.18</td>\n",
       "      <td>2.87</td>\n",
       "    </tr>\n",
       "    <tr>\n",
       "      <th>1</th>\n",
       "      <td>13712</td>\n",
       "      <td>13712</td>\n",
       "      <td>fruits, légumes, légumineuses et oléagineux</td>\n",
       "      <td>fruits</td>\n",
       "      <td>Abricot au sirop léger, appertisé, égoutté</td>\n",
       "      <td>Apricot, canned in light syrup, drained</td>\n",
       "      <td>2.46</td>\n",
       "      <td>Abricot au sirop léger, appertisé, égoutté (13...</td>\n",
       "      <td>0.061297</td>\n",
       "      <td>0.075215</td>\n",
       "      <td>...</td>\n",
       "      <td>1.281828</td>\n",
       "      <td>0.477989</td>\n",
       "      <td>0.220289</td>\n",
       "      <td>0.679414</td>\n",
       "      <td>0.263117</td>\n",
       "      <td>0.015426</td>\n",
       "      <td>2.25</td>\n",
       "      <td>3.62</td>\n",
       "      <td>1.96</td>\n",
       "      <td>2.01</td>\n",
       "    </tr>\n",
       "    <tr>\n",
       "      <th>2</th>\n",
       "      <td>13713</td>\n",
       "      <td>13713</td>\n",
       "      <td>fruits, légumes, légumineuses et oléagineux</td>\n",
       "      <td>fruits</td>\n",
       "      <td>Abricot au sirop léger, appertisé, non égoutté</td>\n",
       "      <td>Apricot, canned in light syrup, not drained</td>\n",
       "      <td>2.46</td>\n",
       "      <td>Abricot au sirop léger, appertisé, non égoutté...</td>\n",
       "      <td>0.038249</td>\n",
       "      <td>0.046934</td>\n",
       "      <td>...</td>\n",
       "      <td>0.799861</td>\n",
       "      <td>0.298265</td>\n",
       "      <td>0.137461</td>\n",
       "      <td>0.423954</td>\n",
       "      <td>0.164185</td>\n",
       "      <td>0.000000</td>\n",
       "      <td>2.25</td>\n",
       "      <td>3.62</td>\n",
       "      <td>1.96</td>\n",
       "      <td>2.01</td>\n",
       "    </tr>\n",
       "    <tr>\n",
       "      <th>3</th>\n",
       "      <td>13714</td>\n",
       "      <td>13714</td>\n",
       "      <td>fruits, légumes, légumineuses et oléagineux</td>\n",
       "      <td>fruits</td>\n",
       "      <td>Abricot au sirop, appertisé, égoutté</td>\n",
       "      <td>Apricot, in syrup, canned, drained</td>\n",
       "      <td>2.46</td>\n",
       "      <td>Abricot au sirop, appertisé, égoutté (13714)</td>\n",
       "      <td>0.061297</td>\n",
       "      <td>0.075215</td>\n",
       "      <td>...</td>\n",
       "      <td>1.281828</td>\n",
       "      <td>0.477989</td>\n",
       "      <td>0.220289</td>\n",
       "      <td>0.679414</td>\n",
       "      <td>0.263117</td>\n",
       "      <td>0.015426</td>\n",
       "      <td>2.25</td>\n",
       "      <td>3.62</td>\n",
       "      <td>1.96</td>\n",
       "      <td>2.01</td>\n",
       "    </tr>\n",
       "    <tr>\n",
       "      <th>4</th>\n",
       "      <td>13715</td>\n",
       "      <td>13715</td>\n",
       "      <td>fruits, légumes, légumineuses et oléagineux</td>\n",
       "      <td>fruits</td>\n",
       "      <td>Abricot au sirop, appertisé, non égoutté</td>\n",
       "      <td>Apricot, in syrup, canned, not drained</td>\n",
       "      <td>2.44</td>\n",
       "      <td>Abricot au sirop, appertisé, non égoutté (13715)</td>\n",
       "      <td>0.038249</td>\n",
       "      <td>0.046934</td>\n",
       "      <td>...</td>\n",
       "      <td>0.799861</td>\n",
       "      <td>0.298265</td>\n",
       "      <td>0.137461</td>\n",
       "      <td>0.423954</td>\n",
       "      <td>0.164185</td>\n",
       "      <td>0.000000</td>\n",
       "      <td>2.21</td>\n",
       "      <td>3.65</td>\n",
       "      <td>1.92</td>\n",
       "      <td>1.97</td>\n",
       "    </tr>\n",
       "    <tr>\n",
       "      <th>5</th>\n",
       "      <td>13000</td>\n",
       "      <td>13000</td>\n",
       "      <td>fruits, légumes, légumineuses et oléagineux</td>\n",
       "      <td>fruits</td>\n",
       "      <td>Abricot, dénoyauté, cru</td>\n",
       "      <td>Apricot, pitted, raw</td>\n",
       "      <td>2.20</td>\n",
       "      <td>Abricot, dénoyauté, cru (13000)</td>\n",
       "      <td>0.061101</td>\n",
       "      <td>0.000000</td>\n",
       "      <td>...</td>\n",
       "      <td>1.277733</td>\n",
       "      <td>0.000000</td>\n",
       "      <td>0.150130</td>\n",
       "      <td>0.533833</td>\n",
       "      <td>0.205231</td>\n",
       "      <td>0.006400</td>\n",
       "      <td>1.96</td>\n",
       "      <td>3.54</td>\n",
       "      <td>1.66</td>\n",
       "      <td>1.66</td>\n",
       "    </tr>\n",
       "  </tbody>\n",
       "</table>\n",
       "<p>6 rows × 102 columns</p>\n",
       "</div>"
      ],
      "text/plain": [
       "  Code AGB  Code CIQUAL                             Groupe d'aliment  \\\n",
       "0    12112        12112                    lait et produits laitiers   \n",
       "1    13712        13712  fruits, légumes, légumineuses et oléagineux   \n",
       "2    13713        13713  fruits, légumes, légumineuses et oléagineux   \n",
       "3    13714        13714  fruits, légumes, légumineuses et oléagineux   \n",
       "4    13715        13715  fruits, légumes, légumineuses et oléagineux   \n",
       "5    13000        13000  fruits, légumes, légumineuses et oléagineux   \n",
       "\n",
       "  Sous-groupe d'aliment                      Nom du Produit en Français  \\\n",
       "0              fromages                                       Abondance   \n",
       "1                fruits      Abricot au sirop léger, appertisé, égoutté   \n",
       "2                fruits  Abricot au sirop léger, appertisé, non égoutté   \n",
       "3                fruits            Abricot au sirop, appertisé, égoutté   \n",
       "4                fruits        Abricot au sirop, appertisé, non égoutté   \n",
       "5                fruits                         Abricot, dénoyauté, cru   \n",
       "\n",
       "                                      LCI Name   DQR  \\\n",
       "0            Abondance cheese, from cow's milk  2.24   \n",
       "1      Apricot, canned in light syrup, drained  2.46   \n",
       "2  Apricot, canned in light syrup, not drained  2.46   \n",
       "3           Apricot, in syrup, canned, drained  2.46   \n",
       "4       Apricot, in syrup, canned, not drained  2.44   \n",
       "5                         Apricot, pitted, raw  2.20   \n",
       "\n",
       "                                         Nom et code  \\\n",
       "0                                  Abondance (12112)   \n",
       "1  Abricot au sirop léger, appertisé, égoutté (13...   \n",
       "2  Abricot au sirop léger, appertisé, non égoutté...   \n",
       "3       Abricot au sirop, appertisé, égoutté (13714)   \n",
       "4   Abricot au sirop, appertisé, non égoutté (13715)   \n",
       "5                    Abricot, dénoyauté, cru (13000)   \n",
       "\n",
       "   Score unique EF (mPt / kg de produit) - Agriculture  \\\n",
       "0                                           0.470679     \n",
       "1                                           0.061297     \n",
       "2                                           0.038249     \n",
       "3                                           0.061297     \n",
       "4                                           0.038249     \n",
       "5                                           0.061101     \n",
       "\n",
       "   Score unique EF (mPt / kg de produit) - Transformation  ...  \\\n",
       "0                                           0.046274       ...   \n",
       "1                                           0.075215       ...   \n",
       "2                                           0.046934       ...   \n",
       "3                                           0.075215       ...   \n",
       "4                                           0.046934       ...   \n",
       "5                                           0.000000       ...   \n",
       "\n",
       "   Épuisement des ressources minéraux (E-06 kg Sb eq/kg de produit) - Agriculture  \\\n",
       "0                                           2.855985                                \n",
       "1                                           1.281828                                \n",
       "2                                           0.799861                                \n",
       "3                                           1.281828                                \n",
       "4                                           0.799861                                \n",
       "5                                           1.277733                                \n",
       "\n",
       "   Épuisement des ressources minéraux (E-06 kg Sb eq/kg de produit) - Transformation  \\\n",
       "0                                           0.552672                                   \n",
       "1                                           0.477989                                   \n",
       "2                                           0.298265                                   \n",
       "3                                           0.477989                                   \n",
       "4                                           0.298265                                   \n",
       "5                                           0.000000                                   \n",
       "\n",
       "   Épuisement des ressources minéraux (E-06 kg Sb eq/kg de produit) - Emballage  \\\n",
       "0                                           0.108718                              \n",
       "1                                           0.220289                              \n",
       "2                                           0.137461                              \n",
       "3                                           0.220289                              \n",
       "4                                           0.137461                              \n",
       "5                                           0.150130                              \n",
       "\n",
       "   Épuisement des ressources minéraux (E-06 kg Sb eq/kg de produit) - Transport  \\\n",
       "0                                           0.985193                              \n",
       "1                                           0.679414                              \n",
       "2                                           0.423954                              \n",
       "3                                           0.679414                              \n",
       "4                                           0.423954                              \n",
       "5                                           0.533833                              \n",
       "\n",
       "   Épuisement des ressources minéraux (E-06 kg Sb eq/kg de produit) - Supermarché et distribution  \\\n",
       "0                                           0.148203                                                \n",
       "1                                           0.263117                                                \n",
       "2                                           0.164185                                                \n",
       "3                                           0.263117                                                \n",
       "4                                           0.164185                                                \n",
       "5                                           0.205231                                                \n",
       "\n",
       "   Épuisement des ressources minéraux (E-06 kg Sb eq/kg de produit) - Consommation  \\\n",
       "0                                           0.042714                                 \n",
       "1                                           0.015426                                 \n",
       "2                                           0.000000                                 \n",
       "3                                           0.015426                                 \n",
       "4                                           0.000000                                 \n",
       "5                                           0.006400                                 \n",
       "\n",
       "   DQR - P  DQR - TiR  DQR - GR  DQR - TeR  \n",
       "0     2.84       2.05      1.18       2.87  \n",
       "1     2.25       3.62      1.96       2.01  \n",
       "2     2.25       3.62      1.96       2.01  \n",
       "3     2.25       3.62      1.96       2.01  \n",
       "4     2.21       3.65      1.92       1.97  \n",
       "5     1.96       3.54      1.66       1.66  \n",
       "\n",
       "[6 rows x 102 columns]"
      ]
     },
     "execution_count": 8,
     "metadata": {},
     "output_type": "execute_result"
    }
   ],
   "source": [
    "data_etape.loc[0:5]"
   ]
  },
  {
   "cell_type": "markdown",
   "metadata": {},
   "source": [
    "# Problème d'apprentissage supervisé"
   ]
  },
  {
   "cell_type": "markdown",
   "metadata": {},
   "source": [
    "Prédiction du groupe d'un aliment suivant les diff indicateurs "
   ]
  },
  {
   "cell_type": "markdown",
   "metadata": {},
   "source": [
    "### nettoyage de la base de données"
   ]
  },
  {
   "cell_type": "code",
   "execution_count": 9,
   "metadata": {},
   "outputs": [],
   "source": [
    "# Clean database\n",
    "data_synthese_clean = data_synthese.drop(columns=[\"Code AGB\", \"Code CIQUAL\", \"Sous-groupe d'aliment\", \"Nom du Produit en Français\", \"LCI Name\" ]) \n",
    "data_synthese_clean.loc[data_synthese_clean[\"Préparation\"] == \"Four \", \"Préparation\"] = \"Four\"\n",
    "data_synthese_clean.loc[data_synthese_clean[\"Préparation\"] == \"Micro onde \", \"Préparation\"] = \"Micro onde\"\n",
    "data_synthese_clean.loc[data_synthese_clean[\"Préparation\"] == \"Pas de préparation \", \"Préparation\"] = \"Pas de préparation\"\n",
    "\n",
    "labels = np.unique(data_synthese_clean[\"Groupe d'aliment\"])\n",
    "\n",
    "for i in range(len(labels)):\n",
    "    data_synthese_clean.loc[data_synthese_clean[\"Groupe d'aliment\"] == labels[i], \"Groupe d'aliment\"] = i    "
   ]
  },
  {
   "cell_type": "markdown",
   "metadata": {},
   "source": [
    "- Avant de passer les données à nos classifiers, nous allons d'abord effectuer une normalisation sur les données. Celle-ci est dû à la différence au niveau de l'echelle des valeurs des données. Par la suite, nous allons transformer les données catégorielles en numériques afin de pouvoir les passer à nos classifiers."
   ]
  },
  {
   "cell_type": "code",
   "execution_count": 10,
   "metadata": {},
   "outputs": [],
   "source": [
    "\n",
    "# Cat to num\n",
    "X = np.array(clust.normalisation(pd.get_dummies(data_synthese_clean.drop(columns=[\"Groupe d'aliment\"]))))\n",
    "Y = np.array(data_synthese_clean[\"Groupe d'aliment\"])"
   ]
  },
  {
   "cell_type": "markdown",
   "metadata": {},
   "source": [
    "- Nous avons choisis une validation croisée afin d'obtenir des résultats interprétables et cohérents."
   ]
  },
  {
   "cell_type": "code",
   "execution_count": 11,
   "metadata": {},
   "outputs": [
    {
     "data": {
      "text/plain": [
       "(1983, 52)"
      ]
     },
     "execution_count": 11,
     "metadata": {},
     "output_type": "execute_result"
    }
   ],
   "source": [
    "# Cross validation\n",
    "\n",
    "Xtrain, Ytrain, Xtest, Ytest = ev.crossval(X, Y, 5, 1)\n",
    "Xtrain.shape"
   ]
  },
  {
   "cell_type": "code",
   "execution_count": 12,
   "metadata": {},
   "outputs": [],
   "source": [
    "dim = Xtrain.shape[1]\n",
    "niter = 5"
   ]
  },
  {
   "cell_type": "markdown",
   "metadata": {},
   "source": [
    "## Perceptron"
   ]
  },
  {
   "cell_type": "code",
   "execution_count": 13,
   "metadata": {},
   "outputs": [],
   "source": [
    "np.random.seed(SEED)\n",
    "epsilons = np.linspace(0.001, 0.01, num=5)\n",
    "\n",
    "eps_accuracies = []\n",
    "\n",
    "for eps in epsilons:\n",
    "    \n",
    "    perc = cl.ClassifierMultiOAA(cl.ClassifierPerceptron(dim, eps))\n",
    "    accuracies = []\n",
    "    \n",
    "    for it in range(niter):\n",
    "        _Xapp, _Yapp, _Xtest, _Ytest = ev.crossval(Xtrain, Ytrain, niter, it)\n",
    "        perc.train(_Xapp, _Yapp)\n",
    "        accuracies.append(perc.accuracy(_Xtest, _Ytest))\n",
    "        \n",
    "    eps_accuracies.append(accuracies)\n"
   ]
  },
  {
   "cell_type": "markdown",
   "metadata": {},
   "source": [
    "### Diagramme des performances résultants en fonctions des différents valeurs du learning rate pour le classifier Perceptron"
   ]
  },
  {
   "cell_type": "code",
   "execution_count": 14,
   "metadata": {},
   "outputs": [
    {
     "data": {
      "image/png": "[encoded data removed]",
      "text/plain": [
       "<Figure size 432x288 with 1 Axes>"
      ]
     },
     "metadata": {
      "needs_background": "light"
     },
     "output_type": "display_data"
    }
   ],
   "source": [
    "values = [ev.analyse_perfs(eps_acc)[0]  for eps_acc in eps_accuracies]\n",
    "plt.title(\"Accuracy en fonction du learning rate\")\n",
    "plt.xlabel(\"learning rate\")\n",
    "plt.ylabel(\"accuracy\")\n",
    "\n",
    "plt.plot(epsilons, values)\n",
    "plt.show()"
   ]
  },
  {
   "cell_type": "code",
   "execution_count": 15,
   "metadata": {},
   "outputs": [
    {
     "name": "stdout",
     "output_type": "stream",
     "text": [
      "Learning rate optimal:  0.0055\n",
      "Performance maximale: 0.7060\n"
     ]
    }
   ],
   "source": [
    " # Affichage du learning rate optimum.\n",
    "eps_max = epsilons[np.argmax(values)]\n",
    "print(\"Learning rate optimal:  %.4f\" % eps_max)\n",
    "print(\"Performance maximale: %.4f\" % values[np.argmax(values)])"
   ]
  },
  {
   "cell_type": "markdown",
   "metadata": {},
   "source": [
    "### Déterminer la valeur optimale du learning rate"
   ]
  },
  {
   "cell_type": "markdown",
   "metadata": {},
   "source": [
    "Afin de déterminer la valeur optimale de learning rate qui maximise la performance de notre classifer_Perceptron, nous avons choisis une approche qui consiste en le calcul de la performance de notre classifier perceptron pour des valeurs différentes du learning rate et d'en choisir celle qui maximise cette dernière. Nous avons choisis une méthode de validation croisée.\n",
    "\n",
    "En analysant le graphe représentant les performances du classifier Preceptron en fonction des différents valeurs du learning rate, on constate que la valeur du learning rate optimale est estimée à 0.0055 avec une performance de 70.6%.\n",
    "\n",
    "Pour la suite, on choisis le classifer perc entraîné avec notre valeur optimale du learning rate."
   ]
  },
  {
   "cell_type": "code",
   "execution_count": 16,
   "metadata": {},
   "outputs": [
    {
     "data": {
      "text/plain": [
       "0.8205645161290323"
      ]
     },
     "execution_count": 16,
     "metadata": {},
     "output_type": "execute_result"
    }
   ],
   "source": [
    "##### Creation du classfier perceptron et son entrainement sur les données d'entrainement \n",
    "perc = cl.ClassifierMultiOAA(cl.ClassifierPerceptron(dim, eps_max))\n",
    "perc.train(Xtrain, Ytrain)\n",
    "\n",
    "# Calcul de la performance du classifier perceptron sur les données de tests\n",
    "perc.accuracy(Xtest, Ytest)"
   ]
  },
  {
   "cell_type": "markdown",
   "metadata": {},
   "source": [
    "## KNN"
   ]
  },
  {
   "cell_type": "code",
   "execution_count": 17,
   "metadata": {},
   "outputs": [],
   "source": [
    "np.random.seed(SEED)\n",
    "k_accuracies = []\n",
    "\n",
    "neighbors = np.arange(2, 8)\n",
    "\n",
    "for k in neighbors:\n",
    "    \n",
    "    knn = cl.ClassifierMultiOAA(cl.ClassifierKNN(dim, k))\n",
    "    accuracies = []\n",
    "    \n",
    "    for it in range(niter):\n",
    "        _Xapp, _Yapp, _Xtest, _Ytest = ev.crossval(Xtrain, Ytrain, niter, it)\n",
    "        knn.train(_Xapp, _Yapp)\n",
    "        accuracies.append(knn.accuracy(_Xtest, _Ytest))\n",
    "        \n",
    "    k_accuracies.append(accuracies)"
   ]
  },
  {
   "cell_type": "markdown",
   "metadata": {},
   "source": [
    "### Diagramme des performances résultants en fonctions des différents valeurs de k pour le classifier KNN"
   ]
  },
  {
   "cell_type": "code",
   "execution_count": 18,
   "metadata": {},
   "outputs": [
    {
     "data": {
      "image/png": "[encoded data removed]",
      "text/plain": [
       "<Figure size 432x288 with 1 Axes>"
      ]
     },
     "metadata": {
      "needs_background": "light"
     },
     "output_type": "display_data"
    }
   ],
   "source": [
    "values = [ev.analyse_perfs(k_acc)[0] for k_acc in k_accuracies]\n",
    "\n",
    "plt.title('Accuracy en fonction de k')\n",
    "plt.xlabel('k')\n",
    "plt.ylabel('accuracy')\n",
    "plt.plot(neighbors, values)\n",
    "plt.show()"
   ]
  },
  {
   "cell_type": "code",
   "execution_count": 20,
   "metadata": {},
   "outputs": [
    {
     "name": "stdout",
     "output_type": "stream",
     "text": [
      "Nombre de voisins k optimal: 2\n",
      "Performance maximale: 0.7731\n"
     ]
    }
   ],
   "source": [
    " # Affichage du k optimum.\n",
    "k_max = neighbors[np.argmax(values)]\n",
    "print(f\"Nombre de voisins k optimal: {k_max}\")\n",
    "print(\"Performance maximale: %.4f\" % values[np.argmax(values)])"
   ]
  },
  {
   "cell_type": "markdown",
   "metadata": {},
   "source": [
    "### Détermination de la valeur optimale de k"
   ]
  },
  {
   "cell_type": "markdown",
   "metadata": {},
   "source": [
    "Afin de déterminer la valeur optimale de k qui maximise la performance de notre classifer_KNN, nous avons choisis une approche qui consiste en le calcul de la performance de notre classifier pour des valeurs de k différentes et d'en choisir celle qui maximise cette dernière. Nous avons choisis une méthode de validation croisée.\n",
    "\n",
    "En analysant le graphe représentant les performances du classifier KNN en fonction des différents valeurs de k, on constate que la valeur de k optimale est 2 avec une performance de 77.31%.\n",
    "\n",
    "Pour la suite, on choisis le classifer knn entraîné avec notre valeur optimale de k."
   ]
  },
  {
   "cell_type": "code",
   "execution_count": 23,
   "metadata": {},
   "outputs": [
    {
     "data": {
      "text/plain": [
       "0.8770161290322581"
      ]
     },
     "execution_count": 23,
     "metadata": {},
     "output_type": "execute_result"
    }
   ],
   "source": [
    "knn = cl.ClassifierMultiOAA(cl.ClassifierKNN(dim, k_max))\n",
    "knn.train(Xtrain, Ytrain)\n",
    "knn.accuracy(Xtest, Ytest)"
   ]
  },
  {
   "cell_type": "markdown",
   "metadata": {},
   "source": [
    "## RandomForest"
   ]
  },
  {
   "cell_type": "code",
   "execution_count": 24,
   "metadata": {},
   "outputs": [],
   "source": [
    "np.random.seed(SEED)\n",
    "nb_att = 29\n",
    "\n",
    "b_accuracies = []\n",
    "\n",
    "bs = np.arange(2, 10)\n",
    "\n",
    "for b in bs:\n",
    "    \n",
    "    frst = cl.ClassifierRandomForest(b, nb_att, 1e-2)\n",
    "    accuracies = []\n",
    "    \n",
    "    for it in range(niter):\n",
    "        _Xapp, _Yapp, _Xtest, _Ytest = ev.crossval(Xtrain, Ytrain, niter, it)\n",
    "        frst.train((_Xapp, _Yapp))\n",
    "        accuracies.append(frst.accuracy(_Xtest, _Ytest))\n",
    "        \n",
    "    b_accuracies.append(accuracies)"
   ]
  },
  {
   "cell_type": "markdown",
   "metadata": {},
   "source": [
    "### Diagramme des performances résultants en fonctions des différents valeurs de b pour le classifier RandomForest"
   ]
  },
  {
   "cell_type": "code",
   "execution_count": 25,
   "metadata": {},
   "outputs": [
    {
     "data": {
      "image/png": "[encoded data removed]",
      "text/plain": [
       "<Figure size 432x288 with 1 Axes>"
      ]
     },
     "metadata": {
      "needs_background": "light"
     },
     "output_type": "display_data"
    }
   ],
   "source": [
    "values = [ev.analyse_perfs(b_acc)[0] for b_acc in b_accuracies]\n",
    "\n",
    "plt.title('Accuracy en fonction de b')\n",
    "plt.xlabel('b')\n",
    "plt.ylabel('accuracy')\n",
    "plt.plot(bs, values)\n",
    "plt.show()"
   ]
  },
  {
   "cell_type": "code",
   "execution_count": 26,
   "metadata": {},
   "outputs": [
    {
     "name": "stdout",
     "output_type": "stream",
     "text": [
      "Performance maximale: 0.7912\n"
     ]
    },
    {
     "data": {
      "text/plain": [
       "9"
      ]
     },
     "execution_count": 26,
     "metadata": {},
     "output_type": "execute_result"
    }
   ],
   "source": [
    "# Affichage du b optimum.\n",
    "b_max = bs[np.argmax(values)]\n",
    "print(\"Performance maximale: %.4f\" % values[np.argmax(values)])\n",
    "b_max"
   ]
  },
  {
   "cell_type": "markdown",
   "metadata": {},
   "source": [
    "### Détermination de la valeur optimale de b"
   ]
  },
  {
   "cell_type": "markdown",
   "metadata": {},
   "source": [
    "Afin de déterminer la valeur optimale de b qui maximise la performance de notre classifer_RandomForest, nous avons choisis une approche qui consiste en le calcul de la performance de notre classifier pour des valeurs de b différentes et d'en choisir celle qui maximise cette dernière. Nous avons choisis une méthode de validation croisée.\n",
    "\n",
    "En analysant le graphe représentant les performances du classifier RandomForest en fonction des différents valeurs de b, on constate que la valeur de b optimale est 9 avec une performance de 79.12%.\n",
    "\n",
    "Pour la suite, on choisis le classifer RandomForest entraîné avec notre valeur optimale de b."
   ]
  },
  {
   "cell_type": "code",
   "execution_count": 165,
   "metadata": {},
   "outputs": [
    {
     "data": {
      "text/plain": [
       "0.8689516129032258"
      ]
     },
     "execution_count": 165,
     "metadata": {},
     "output_type": "execute_result"
    }
   ],
   "source": [
    "frst = cl.ClassifierRandomForest(b_max, nb_att, 1e-2)\n",
    "frst.train((Xtrain, Ytrain))\n",
    "frst.accuracy(Xtest, Ytest)"
   ]
  },
  {
   "cell_type": "markdown",
   "metadata": {},
   "source": [
    "## Problème d'apprentissage non supervisé"
   ]
  },
  {
   "cell_type": "markdown",
   "metadata": {},
   "source": [
    "Afin de classer les aliments au sein d'un même groupe selon différents clusters, on utilise l’algorithme des k moyennes qui rend l’ensemble des centroïdes et une matrice d’affectation des aliments.\n"
   ]
  },
  {
   "cell_type": "code",
   "execution_count": 166,
   "metadata": {},
   "outputs": [],
   "source": [
    "data_cereal = data_synthese[data_synthese[\"Groupe d'aliment\"] == \"produits céréaliers\"]\n",
    "data_cereal = data_cereal.drop(columns=[\"Code AGB\", \"Code CIQUAL\", \"Groupe d'aliment\", \"Sous-groupe d'aliment\", \"Nom du Produit en Français\", \"LCI Name\" ]) \n",
    "\n",
    "data_cereal = clust.normalisation(pd.get_dummies(data_cereal))"
   ]
  },
  {
   "cell_type": "markdown",
   "metadata": {},
   "source": [
    "En utilisant l’index de Dunn et de Beni, on évalue par la suite les performances de notre clustering en fonction des différentes valeurs de k.\n"
   ]
  },
  {
   "cell_type": "code",
   "execution_count": 167,
   "metadata": {},
   "outputs": [],
   "source": [
    "ks = [ k for k in range(2, 5) ]\n",
    "iner = []\n",
    "dunn = []\n",
    "beni = []\n",
    "\n",
    "for k in ks:\n",
    "    centers, mat = clust.kmoyennes(k, data_cereal, 0.05, 100, verbose=False)\n",
    "    iner.append(clust.inertie_globale(data_cereal, mat))\n",
    "    dunn.append(clust.index_dunn(data_cereal, mat))\n",
    "    beni.append(clust.index_XieBeni(data_cereal, centers, mat))"
   ]
  },
  {
   "cell_type": "markdown",
   "metadata": {},
   "source": [
    "### Diagramme des performances résultants en fonctions des différents valeurs de k"
   ]
  },
  {
   "cell_type": "code",
   "execution_count": 168,
   "metadata": {},
   "outputs": [
    {
     "data": {
      "image/png": "[encoded data removed]",
      "text/plain": [
       "<Figure size 432x288 with 1 Axes>"
      ]
     },
     "metadata": {
      "needs_background": "light"
     },
     "output_type": "display_data"
    },
    {
     "data": {
      "image/png": "[encoded data removed]",
      "text/plain": [
       "<Figure size 432x288 with 1 Axes>"
      ]
     },
     "metadata": {
      "needs_background": "light"
     },
     "output_type": "display_data"
    }
   ],
   "source": [
    "plt.xlabel(\"k\")\n",
    "plt.plot(ks, dunn, label=\"index de dunn\")\n",
    "plt.plot(ks, beni, label=\"index de beni\")\n",
    "plt.legend()\n",
    "plt.show()\n",
    "\n",
    "plt.xlabel(\"k\")\n",
    "plt.plot(ks, iner, label=\"inertie\")\n",
    "plt.legend()\n",
    "plt.show()"
   ]
  },
  {
   "cell_type": "code",
   "execution_count": 183,
   "metadata": {
    "scrolled": true
   },
   "outputs": [
    {
     "data": {
      "text/plain": [
       "2"
      ]
     },
     "execution_count": 183,
     "metadata": {},
     "output_type": "execute_result"
    }
   ],
   "source": [
    "# Affichage du k optimum.\n",
    "dunn = np.array(dunn)\n",
    "beni = np.array(beni)\n",
    "\n",
    "i = np.argmin(dunn + beni)\n",
    "k_max = ks[i]\n",
    "k_max"
   ]
  },
  {
   "cell_type": "markdown",
   "metadata": {},
   "source": [
    "### Détermination de la valeur optimale de k"
   ]
  },
  {
   "cell_type": "markdown",
   "metadata": {},
   "source": [
    "En analysant le graphe des indexes de Dunn et de Beni ainsi que celui représentant les inerties globales de l'algorithme des k moyennes en fonction des différentes valeurs de k, on constate que la valeur de k optimale est 2."
   ]
  },
  {
   "cell_type": "code",
   "execution_count": null,
   "metadata": {},
   "outputs": [],
   "source": [
    "import warnings\n",
    "warnings.filterwarnings('ignore')\n",
    "\n",
    "centers, mat = clust.kmoyennes(k_max, data_cereal, 0.05, 100, verbose=False)"
   ]
  },
  {
   "cell_type": "code",
   "execution_count": 173,
   "metadata": {},
   "outputs": [],
   "source": [
    "def reduce_dim(X):\n",
    "    eig_val, eig_vec = np.linalg.eig(X.T @ X)\n",
    "    sorted_i = eig_val.argsort()\n",
    "    \n",
    "    vec_a = eig_vec[:, sorted_i[-1]]\n",
    "    vec_b = eig_vec[:, sorted_i[-2]]\n",
    "    \n",
    "    P_a = X @ vec_a\n",
    "    P_b = X @ vec_b\n",
    "    \n",
    "    return P_a, P_b, vec_a, vec_b"
   ]
  },
  {
   "cell_type": "code",
   "execution_count": 176,
   "metadata": {},
   "outputs": [],
   "source": [
    "import random as rd\n",
    "\n",
    "def affiche_resultat(Base, Centres, Affect):\n",
    "    clust = []\n",
    "    \n",
    "    for _, value in Affect.items():\n",
    "        clust.append(pd.DataFrame([Base.iloc[elem]\n",
    "                     for elem in value], columns=Base.columns))\n",
    "\n",
    "    for i in range(len(Centres)):\n",
    "        \n",
    "        p_a, p_b, vec_a, vec_b = reduce_dim(clust[i])\n",
    "        plt.scatter(p_a, p_b)\n",
    "        \n",
    "        plt.scatter(np.dot(Centres[i], vec_a), np.dot(\n",
    "            Centres[i], vec_b), color='r', marker='x')\n",
    "        \n",
    "    plt.show()\n"
   ]
  },
  {
   "cell_type": "code",
   "execution_count": 185,
   "metadata": {},
   "outputs": [
    {
     "data": {
      "image/png": "[encoded data removed]",
      "text/plain": [
       "<Figure size 432x288 with 1 Axes>"
      ]
     },
     "metadata": {
      "needs_background": "light"
     },
     "output_type": "display_data"
    }
   ],
   "source": [
    "affiche_resultat(data_cereal, centers, mat)"
   ]
  }
 ],
 "metadata": {
  "kernelspec": {
   "display_name": "Python 3 (ipykernel)",
   "language": "python",
   "name": "python3"
  },
  "language_info": {
   "codemirror_mode": {
    "name": "ipython",
    "version": 3
   },
   "file_extension": ".py",
   "mimetype": "text/x-python",
   "name": "python",
   "nbconvert_exporter": "python",
   "pygments_lexer": "ipython3",
   "version": "3.9.12"
  }
 },
 "nbformat": 4,
 "nbformat_minor": 1
}
